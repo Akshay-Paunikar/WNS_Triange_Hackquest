{
  "cells": [
    {
      "cell_type": "markdown",
      "metadata": {
        "id": "mBUL-rzMZFkB"
      },
      "source": [
        "## WNS TRIANGE HACKQUEST\n",
        "\n",
        "### Problem Statement\n",
        "\n",
        "Within the realm of insurance, the processing of claims related to vehicle damage stands out as a routine yet crucial responsibility. The insurance sector grapples with an ongoing dilemma in distinguishing genuine claims from deceptive ones, a situation that can result in substantial financial setbacks. The emergence of Generative AI and various stable diffusion models has contributed to a surge in the number of fraudulent claims. It has become commonplace for users to incorporate fraudulent images as components of the claim settlement process.\n",
        "\n",
        "This poses a formidable challenge to insurance companies as they strive to differentiate between legitimate and deceitful claims. Deceptive claims often involve amplifying the severity of damage or fabricating entirely false claims. To curb these financial losses and uphold the integrity of their operations, insurance firms must formulate effective approaches for accurately and efficiently flagging fraudulent claims.\n",
        "\n",
        "In the context of this hackathon, the WNS team invites the community to devise a robust and high-performance model utilizing computer vision techniques to classify images as either fraudulent or non-fraudulent within the context of insurance claims. By precisely identifying fraudulent images, insurance companies can evaluate the authenticity of a claim and make well-informed decisions regarding payout.\n",
        "\n",
        "### Dataset\n",
        "\n",
        "You are provided with 3 files: training set, test set and sample submission.\n",
        "\n",
        "The training set contains a diverse dataset of car images, each labeled with information being fraudulent or non fraudulent. The dataset includes images from varying lighting conditions, cluttered backgrounds, long tail distribution, and so on.\n",
        "\n",
        "In the test set, you are provided with only the images and you need to predict the label as fraudulent or non fraudulent for each image present.\n",
        "\n",
        "The sample submission file contains the format in which the user needs to submit the solution file.\n",
        "\n",
        "### Dataset Description\n",
        "\n",
        "Following is the dataset description of training set, test set and sample submission.\n",
        "\n",
        "#### Training set\n",
        "\n",
        "The training set contains 2 files: images folder and train.csv\n",
        "\n",
        "The images folder contains the images which are to be used for training the model and train.csv contains the labels of each image present in the training set and data description is given below.\n",
        "\n",
        "![image](https://github.com/Akshay-Paunikar/WNS_Triange_Hackquest/assets/86560684/b2d4a1b8-f13c-4bb7-b75a-7272c0e620c8)\n",
        "\n",
        "#### Test set\n",
        "\n",
        "The test set contains 2 files: images folder and test.csv\n",
        "\n",
        "The images folder contains the test images for which prediction is to be done and test.csv contains the unique identifiers of each image present in the test set. You will need to make predictions for each image present in the test set and data description is given below.\n",
        "\n",
        "![image](https://github.com/Akshay-Paunikar/WNS_Triange_Hackquest/assets/86560684/810e41cc-f63e-489f-a8f7-1a3a24ac52a6)\n",
        "\n",
        "#### Sample Submission\n",
        "\n",
        "Sample submission contains 2 columns - image_id and label and its description is given below\n",
        "\n",
        "![image](https://github.com/Akshay-Paunikar/WNS_Triange_Hackquest/assets/86560684/3209b2b2-276f-4d5d-8147-cf834da748e9)\n",
        "\n",
        "#### Evaluation metric\n",
        "\n",
        "The model will be evaluated with the macro F1 score.\n",
        "\n",
        "#### Public and Private Split\n",
        "\n",
        "Test data is further divided into Public (40%) and Private (60%) data.\n",
        "\n",
        "Your initial responses will be checked and scored on the Public data. The final rankings would be based on your private score which will be published once the competition is over."
      ]
    },
    {
      "cell_type": "code",
      "execution_count": 1,
      "metadata": {
        "colab": {
          "base_uri": "https://localhost:8080/"
        },
        "id": "wNsfN3KKZNcf",
        "outputId": "99466d13-b3c1-4189-d30d-ac9e4544364f"
      },
      "outputs": [],
      "source": [
        "# # mount google drive\n",
        "# from google.colab import drive\n",
        "# drive.mount('/content/drive/')"
      ]
    },
    {
      "cell_type": "code",
      "execution_count": 1,
      "metadata": {
        "id": "iMPWhzLuZFkD"
      },
      "outputs": [],
      "source": [
        "# import required libraries\n",
        "import os\n",
        "import numpy as np\n",
        "import pandas as pd\n",
        "from PIL import Image"
      ]
    },
    {
      "cell_type": "code",
      "execution_count": 2,
      "metadata": {
        "colab": {
          "base_uri": "https://localhost:8080/",
          "height": 36
        },
        "id": "pEeXfnwjdFwv",
        "outputId": "07680bd8-d6e6-46f6-93ab-8b91c815271c"
      },
      "outputs": [],
      "source": [
        "# # path to current working directory\n",
        "# %pwd"
      ]
    },
    {
      "cell_type": "code",
      "execution_count": 3,
      "metadata": {
        "id": "s9yuK_F4dNPG"
      },
      "outputs": [],
      "source": [
        "# # change working directory to desired path\n",
        "# os.chdir(\"/content/drive/MyDrive/WNS_TRIANGE_HACKQUEST/\")"
      ]
    },
    {
      "cell_type": "code",
      "execution_count": 4,
      "metadata": {
        "colab": {
          "base_uri": "https://localhost:8080/",
          "height": 36
        },
        "id": "3xmZ77_ydbDm",
        "outputId": "325f9f91-5810-4d32-e4c5-4242a9eb6a9a"
      },
      "outputs": [
        {
          "data": {
            "text/plain": [
              "'e:\\\\Job-A-Thon\\\\WNS_Triange_Hackquest'"
            ]
          },
          "execution_count": 4,
          "metadata": {},
          "output_type": "execute_result"
        }
      ],
      "source": [
        "# check if you are in the right directory\n",
        "%pwd"
      ]
    },
    {
      "cell_type": "code",
      "execution_count": 5,
      "metadata": {
        "id": "skHKFx-SZFkE"
      },
      "outputs": [],
      "source": [
        "# read the train data\n",
        "# train_data = pd.read_csv(\"/content/drive/MyDrive/WNS_TRIANGE_HACKQUEST/dataset/train/train.csv\")\n",
        "train_data = pd.read_csv(\"E:/Job-A-Thon/WNS_Triange_Hackquest/dataset/train/train.csv\")"
      ]
    },
    {
      "cell_type": "code",
      "execution_count": 6,
      "metadata": {
        "colab": {
          "base_uri": "https://localhost:8080/",
          "height": 206
        },
        "id": "jpTCI8UoZFkE",
        "outputId": "d0843204-9b2c-494d-8768-cd43f1db4d88"
      },
      "outputs": [
        {
          "data": {
            "text/html": [
              "<div>\n",
              "<style scoped>\n",
              "    .dataframe tbody tr th:only-of-type {\n",
              "        vertical-align: middle;\n",
              "    }\n",
              "\n",
              "    .dataframe tbody tr th {\n",
              "        vertical-align: top;\n",
              "    }\n",
              "\n",
              "    .dataframe thead th {\n",
              "        text-align: right;\n",
              "    }\n",
              "</style>\n",
              "<table border=\"1\" class=\"dataframe\">\n",
              "  <thead>\n",
              "    <tr style=\"text-align: right;\">\n",
              "      <th></th>\n",
              "      <th>image_id</th>\n",
              "      <th>filename</th>\n",
              "      <th>label</th>\n",
              "    </tr>\n",
              "  </thead>\n",
              "  <tbody>\n",
              "    <tr>\n",
              "      <th>0</th>\n",
              "      <td>1</td>\n",
              "      <td>1.jpg</td>\n",
              "      <td>0</td>\n",
              "    </tr>\n",
              "    <tr>\n",
              "      <th>1</th>\n",
              "      <td>2</td>\n",
              "      <td>2.jpg</td>\n",
              "      <td>0</td>\n",
              "    </tr>\n",
              "    <tr>\n",
              "      <th>2</th>\n",
              "      <td>3</td>\n",
              "      <td>3.jpg</td>\n",
              "      <td>0</td>\n",
              "    </tr>\n",
              "    <tr>\n",
              "      <th>3</th>\n",
              "      <td>4</td>\n",
              "      <td>4.jpg</td>\n",
              "      <td>0</td>\n",
              "    </tr>\n",
              "    <tr>\n",
              "      <th>4</th>\n",
              "      <td>5</td>\n",
              "      <td>5.jpg</td>\n",
              "      <td>0</td>\n",
              "    </tr>\n",
              "  </tbody>\n",
              "</table>\n",
              "</div>"
            ],
            "text/plain": [
              "   image_id filename  label\n",
              "0         1    1.jpg      0\n",
              "1         2    2.jpg      0\n",
              "2         3    3.jpg      0\n",
              "3         4    4.jpg      0\n",
              "4         5    5.jpg      0"
            ]
          },
          "execution_count": 6,
          "metadata": {},
          "output_type": "execute_result"
        }
      ],
      "source": [
        "# first five records\n",
        "train_data.head()"
      ]
    },
    {
      "cell_type": "code",
      "execution_count": 7,
      "metadata": {
        "colab": {
          "base_uri": "https://localhost:8080/"
        },
        "id": "S2-tYZWHcHgY",
        "outputId": "7ff38348-d556-490b-f87b-04e0c309f461"
      },
      "outputs": [
        {
          "data": {
            "text/plain": [
              "(8079, 3)"
            ]
          },
          "execution_count": 7,
          "metadata": {},
          "output_type": "execute_result"
        }
      ],
      "source": [
        "# shape of dataset\n",
        "train_data.shape"
      ]
    },
    {
      "cell_type": "code",
      "execution_count": 8,
      "metadata": {
        "colab": {
          "base_uri": "https://localhost:8080/"
        },
        "id": "DHji5tpYeiAm",
        "outputId": "6f9213e0-b3e3-4781-d85f-e8ec04565bce"
      },
      "outputs": [
        {
          "data": {
            "text/plain": [
              "0    7614\n",
              "1     465\n",
              "Name: label, dtype: int64"
            ]
          },
          "execution_count": 8,
          "metadata": {},
          "output_type": "execute_result"
        }
      ],
      "source": [
        "# check if data is balanced w.r.t. label or not\n",
        "train_data['label'].value_counts()"
      ]
    },
    {
      "cell_type": "markdown",
      "metadata": {
        "id": "SLbj-mCcfEqY"
      },
      "source": [
        "As you can see that the dataset is imbalanced as it has non-fraudulent label - 7614 and fraudulent label - 465. Since we are not able to run the whole data on our system as well as on Google Colab we need to use a portion of data for our project. Hence, we will use 465 records for non-fraudulent and 465 records for fraudulent images to train our model to see what happens."
      ]
    },
    {
      "cell_type": "code",
      "execution_count": 10,
      "metadata": {},
      "outputs": [
        {
          "name": "stdout",
          "output_type": "stream",
          "text": [
            "shape of fraud_data: (465, 3)\n",
            "shape of non_fraud_data: (465, 3)\n"
          ]
        }
      ],
      "source": [
        "fraud_data = train_data[train_data[\"label\"]==1]\n",
        "non_fraud_data = train_data[train_data[\"label\"]==0][:465]\n",
        "\n",
        "print(f\"shape of fraud_data: {fraud_data.shape}\")\n",
        "print(f\"shape of non_fraud_data: {non_fraud_data.shape}\")"
      ]
    },
    {
      "cell_type": "code",
      "execution_count": 11,
      "metadata": {},
      "outputs": [
        {
          "data": {
            "text/html": [
              "<div>\n",
              "<style scoped>\n",
              "    .dataframe tbody tr th:only-of-type {\n",
              "        vertical-align: middle;\n",
              "    }\n",
              "\n",
              "    .dataframe tbody tr th {\n",
              "        vertical-align: top;\n",
              "    }\n",
              "\n",
              "    .dataframe thead th {\n",
              "        text-align: right;\n",
              "    }\n",
              "</style>\n",
              "<table border=\"1\" class=\"dataframe\">\n",
              "  <thead>\n",
              "    <tr style=\"text-align: right;\">\n",
              "      <th></th>\n",
              "      <th>image_id</th>\n",
              "      <th>filename</th>\n",
              "      <th>label</th>\n",
              "    </tr>\n",
              "  </thead>\n",
              "  <tbody>\n",
              "    <tr>\n",
              "      <th>17</th>\n",
              "      <td>18</td>\n",
              "      <td>18.jpg</td>\n",
              "      <td>1</td>\n",
              "    </tr>\n",
              "    <tr>\n",
              "      <th>62</th>\n",
              "      <td>63</td>\n",
              "      <td>63.jpg</td>\n",
              "      <td>1</td>\n",
              "    </tr>\n",
              "    <tr>\n",
              "      <th>100</th>\n",
              "      <td>101</td>\n",
              "      <td>101.jpg</td>\n",
              "      <td>1</td>\n",
              "    </tr>\n",
              "    <tr>\n",
              "      <th>117</th>\n",
              "      <td>118</td>\n",
              "      <td>118.jpg</td>\n",
              "      <td>1</td>\n",
              "    </tr>\n",
              "    <tr>\n",
              "      <th>139</th>\n",
              "      <td>140</td>\n",
              "      <td>140.jpg</td>\n",
              "      <td>1</td>\n",
              "    </tr>\n",
              "  </tbody>\n",
              "</table>\n",
              "</div>"
            ],
            "text/plain": [
              "     image_id filename  label\n",
              "17         18   18.jpg      1\n",
              "62         63   63.jpg      1\n",
              "100       101  101.jpg      1\n",
              "117       118  118.jpg      1\n",
              "139       140  140.jpg      1"
            ]
          },
          "execution_count": 11,
          "metadata": {},
          "output_type": "execute_result"
        }
      ],
      "source": [
        "fraud_data.head()"
      ]
    },
    {
      "cell_type": "code",
      "execution_count": 12,
      "metadata": {},
      "outputs": [
        {
          "data": {
            "text/html": [
              "<div>\n",
              "<style scoped>\n",
              "    .dataframe tbody tr th:only-of-type {\n",
              "        vertical-align: middle;\n",
              "    }\n",
              "\n",
              "    .dataframe tbody tr th {\n",
              "        vertical-align: top;\n",
              "    }\n",
              "\n",
              "    .dataframe thead th {\n",
              "        text-align: right;\n",
              "    }\n",
              "</style>\n",
              "<table border=\"1\" class=\"dataframe\">\n",
              "  <thead>\n",
              "    <tr style=\"text-align: right;\">\n",
              "      <th></th>\n",
              "      <th>image_id</th>\n",
              "      <th>filename</th>\n",
              "      <th>label</th>\n",
              "    </tr>\n",
              "  </thead>\n",
              "  <tbody>\n",
              "    <tr>\n",
              "      <th>0</th>\n",
              "      <td>1</td>\n",
              "      <td>1.jpg</td>\n",
              "      <td>0</td>\n",
              "    </tr>\n",
              "    <tr>\n",
              "      <th>1</th>\n",
              "      <td>2</td>\n",
              "      <td>2.jpg</td>\n",
              "      <td>0</td>\n",
              "    </tr>\n",
              "    <tr>\n",
              "      <th>2</th>\n",
              "      <td>3</td>\n",
              "      <td>3.jpg</td>\n",
              "      <td>0</td>\n",
              "    </tr>\n",
              "    <tr>\n",
              "      <th>3</th>\n",
              "      <td>4</td>\n",
              "      <td>4.jpg</td>\n",
              "      <td>0</td>\n",
              "    </tr>\n",
              "    <tr>\n",
              "      <th>4</th>\n",
              "      <td>5</td>\n",
              "      <td>5.jpg</td>\n",
              "      <td>0</td>\n",
              "    </tr>\n",
              "  </tbody>\n",
              "</table>\n",
              "</div>"
            ],
            "text/plain": [
              "   image_id filename  label\n",
              "0         1    1.jpg      0\n",
              "1         2    2.jpg      0\n",
              "2         3    3.jpg      0\n",
              "3         4    4.jpg      0\n",
              "4         5    5.jpg      0"
            ]
          },
          "execution_count": 12,
          "metadata": {},
          "output_type": "execute_result"
        }
      ],
      "source": [
        "non_fraud_data.head()"
      ]
    },
    {
      "cell_type": "code",
      "execution_count": 18,
      "metadata": {},
      "outputs": [
        {
          "data": {
            "text/plain": [
              "(930, 3)"
            ]
          },
          "execution_count": 18,
          "metadata": {},
          "output_type": "execute_result"
        }
      ],
      "source": [
        "training_data = pd.concat([non_fraud_data, fraud_data], ignore_index=True, axis=0)\n",
        "training_data.shape"
      ]
    },
    {
      "cell_type": "code",
      "execution_count": 19,
      "metadata": {},
      "outputs": [
        {
          "data": {
            "text/html": [
              "<div>\n",
              "<style scoped>\n",
              "    .dataframe tbody tr th:only-of-type {\n",
              "        vertical-align: middle;\n",
              "    }\n",
              "\n",
              "    .dataframe tbody tr th {\n",
              "        vertical-align: top;\n",
              "    }\n",
              "\n",
              "    .dataframe thead th {\n",
              "        text-align: right;\n",
              "    }\n",
              "</style>\n",
              "<table border=\"1\" class=\"dataframe\">\n",
              "  <thead>\n",
              "    <tr style=\"text-align: right;\">\n",
              "      <th></th>\n",
              "      <th>image_id</th>\n",
              "      <th>filename</th>\n",
              "      <th>label</th>\n",
              "    </tr>\n",
              "  </thead>\n",
              "  <tbody>\n",
              "    <tr>\n",
              "      <th>0</th>\n",
              "      <td>1</td>\n",
              "      <td>1.jpg</td>\n",
              "      <td>0</td>\n",
              "    </tr>\n",
              "    <tr>\n",
              "      <th>1</th>\n",
              "      <td>2</td>\n",
              "      <td>2.jpg</td>\n",
              "      <td>0</td>\n",
              "    </tr>\n",
              "    <tr>\n",
              "      <th>2</th>\n",
              "      <td>3</td>\n",
              "      <td>3.jpg</td>\n",
              "      <td>0</td>\n",
              "    </tr>\n",
              "    <tr>\n",
              "      <th>3</th>\n",
              "      <td>4</td>\n",
              "      <td>4.jpg</td>\n",
              "      <td>0</td>\n",
              "    </tr>\n",
              "    <tr>\n",
              "      <th>4</th>\n",
              "      <td>5</td>\n",
              "      <td>5.jpg</td>\n",
              "      <td>0</td>\n",
              "    </tr>\n",
              "  </tbody>\n",
              "</table>\n",
              "</div>"
            ],
            "text/plain": [
              "   image_id filename  label\n",
              "0         1    1.jpg      0\n",
              "1         2    2.jpg      0\n",
              "2         3    3.jpg      0\n",
              "3         4    4.jpg      0\n",
              "4         5    5.jpg      0"
            ]
          },
          "execution_count": 19,
          "metadata": {},
          "output_type": "execute_result"
        }
      ],
      "source": [
        "training_data.head()"
      ]
    },
    {
      "cell_type": "code",
      "execution_count": 20,
      "metadata": {},
      "outputs": [],
      "source": [
        "# save to csv file\n",
        "# training_data.to_csv(\"train_data.csv\", index=False)"
      ]
    },
    {
      "cell_type": "code",
      "execution_count": null,
      "metadata": {},
      "outputs": [],
      "source": []
    },
    {
      "cell_type": "code",
      "execution_count": null,
      "metadata": {},
      "outputs": [],
      "source": []
    },
    {
      "cell_type": "markdown",
      "metadata": {
        "id": "hJxaOImyfTb2"
      },
      "source": [
        "Now we will read the given images and combine the csv data provided to create a new dataframe for further usage."
      ]
    },
    {
      "cell_type": "code",
      "execution_count": 22,
      "metadata": {
        "id": "j9xujUa4ZFkF"
      },
      "outputs": [],
      "source": [
        "combined_data_train = []\n",
        "\n",
        "for index, row in training_data.iterrows():\n",
        "    # image_path = \"/content/drive/MyDrive/WNS_TRIANGE_HACKQUEST/dataset/train/images/\" + row['filename']\n",
        "    image_path = \"E:/Job-A-Thon/WNS_Triange_Hackquest/dataset/train/images/\" + row['filename']\n",
        "    image = Image.open(image_path)\n",
        "\n",
        "    combined_row_train = {\n",
        "        \"image_name\": row['filename'],\n",
        "        \"fraudulent_claim\": row['label'],\n",
        "        \"image_data\": image\n",
        "    }\n",
        "\n",
        "    combined_data_train.append(combined_row_train)"
      ]
    },
    {
      "cell_type": "code",
      "execution_count": 23,
      "metadata": {
        "id": "JKW_8BdnZFkG"
      },
      "outputs": [],
      "source": [
        "combined_df_train = pd.DataFrame(combined_data_train)"
      ]
    },
    {
      "cell_type": "code",
      "execution_count": 24,
      "metadata": {
        "colab": {
          "base_uri": "https://localhost:8080/",
          "height": 206
        },
        "id": "hvpL2pKTZFkG",
        "outputId": "4eff1a36-b8a7-4fa5-a1ef-7b415660a3fb"
      },
      "outputs": [
        {
          "data": {
            "text/html": [
              "<div>\n",
              "<style scoped>\n",
              "    .dataframe tbody tr th:only-of-type {\n",
              "        vertical-align: middle;\n",
              "    }\n",
              "\n",
              "    .dataframe tbody tr th {\n",
              "        vertical-align: top;\n",
              "    }\n",
              "\n",
              "    .dataframe thead th {\n",
              "        text-align: right;\n",
              "    }\n",
              "</style>\n",
              "<table border=\"1\" class=\"dataframe\">\n",
              "  <thead>\n",
              "    <tr style=\"text-align: right;\">\n",
              "      <th></th>\n",
              "      <th>image_name</th>\n",
              "      <th>fraudulent_claim</th>\n",
              "      <th>image_data</th>\n",
              "    </tr>\n",
              "  </thead>\n",
              "  <tbody>\n",
              "    <tr>\n",
              "      <th>0</th>\n",
              "      <td>1.jpg</td>\n",
              "      <td>0</td>\n",
              "      <td>&lt;PIL.JpegImagePlugin.JpegImageFile image mode=...</td>\n",
              "    </tr>\n",
              "    <tr>\n",
              "      <th>1</th>\n",
              "      <td>2.jpg</td>\n",
              "      <td>0</td>\n",
              "      <td>&lt;PIL.JpegImagePlugin.JpegImageFile image mode=...</td>\n",
              "    </tr>\n",
              "    <tr>\n",
              "      <th>2</th>\n",
              "      <td>3.jpg</td>\n",
              "      <td>0</td>\n",
              "      <td>&lt;PIL.JpegImagePlugin.JpegImageFile image mode=...</td>\n",
              "    </tr>\n",
              "    <tr>\n",
              "      <th>3</th>\n",
              "      <td>4.jpg</td>\n",
              "      <td>0</td>\n",
              "      <td>&lt;PIL.JpegImagePlugin.JpegImageFile image mode=...</td>\n",
              "    </tr>\n",
              "    <tr>\n",
              "      <th>4</th>\n",
              "      <td>5.jpg</td>\n",
              "      <td>0</td>\n",
              "      <td>&lt;PIL.JpegImagePlugin.JpegImageFile image mode=...</td>\n",
              "    </tr>\n",
              "  </tbody>\n",
              "</table>\n",
              "</div>"
            ],
            "text/plain": [
              "  image_name  fraudulent_claim  \\\n",
              "0      1.jpg                 0   \n",
              "1      2.jpg                 0   \n",
              "2      3.jpg                 0   \n",
              "3      4.jpg                 0   \n",
              "4      5.jpg                 0   \n",
              "\n",
              "                                          image_data  \n",
              "0  <PIL.JpegImagePlugin.JpegImageFile image mode=...  \n",
              "1  <PIL.JpegImagePlugin.JpegImageFile image mode=...  \n",
              "2  <PIL.JpegImagePlugin.JpegImageFile image mode=...  \n",
              "3  <PIL.JpegImagePlugin.JpegImageFile image mode=...  \n",
              "4  <PIL.JpegImagePlugin.JpegImageFile image mode=...  "
            ]
          },
          "execution_count": 24,
          "metadata": {},
          "output_type": "execute_result"
        }
      ],
      "source": [
        "combined_df_train.head()"
      ]
    },
    {
      "cell_type": "code",
      "execution_count": 25,
      "metadata": {
        "colab": {
          "base_uri": "https://localhost:8080/"
        },
        "id": "VKC37cqDZFkH",
        "outputId": "e129bfc4-5c73-4269-84f8-56be52601ebd"
      },
      "outputs": [
        {
          "data": {
            "text/plain": [
              "image_name          object\n",
              "fraudulent_claim     int64\n",
              "image_data          object\n",
              "dtype: object"
            ]
          },
          "execution_count": 25,
          "metadata": {},
          "output_type": "execute_result"
        }
      ],
      "source": [
        "combined_df_train.dtypes"
      ]
    },
    {
      "cell_type": "code",
      "execution_count": 26,
      "metadata": {
        "id": "yRzjyiUXZFkH"
      },
      "outputs": [],
      "source": [
        "target_size = (224, 224)"
      ]
    },
    {
      "cell_type": "code",
      "execution_count": 27,
      "metadata": {
        "id": "iKvW18QJZFkH"
      },
      "outputs": [],
      "source": [
        "def preprocess_image(image):\n",
        "    resized_image = image.resize(target_size)\n",
        "    processed_image = np.array(resized_image)/255.0\n",
        "    return processed_image"
      ]
    },
    {
      "cell_type": "code",
      "execution_count": 28,
      "metadata": {
        "id": "5T6ZGiicZFkI"
      },
      "outputs": [],
      "source": [
        "combined_df_train['processed_image'] = combined_df_train['image_data'].apply(preprocess_image)"
      ]
    },
    {
      "cell_type": "code",
      "execution_count": 29,
      "metadata": {
        "id": "KMF7Ch6NZFkI"
      },
      "outputs": [],
      "source": [
        "combined_df_train.drop(columns=['image_data'], inplace=True)"
      ]
    },
    {
      "cell_type": "code",
      "execution_count": 30,
      "metadata": {
        "id": "GpWOG05ffqUx"
      },
      "outputs": [
        {
          "data": {
            "text/html": [
              "<div>\n",
              "<style scoped>\n",
              "    .dataframe tbody tr th:only-of-type {\n",
              "        vertical-align: middle;\n",
              "    }\n",
              "\n",
              "    .dataframe tbody tr th {\n",
              "        vertical-align: top;\n",
              "    }\n",
              "\n",
              "    .dataframe thead th {\n",
              "        text-align: right;\n",
              "    }\n",
              "</style>\n",
              "<table border=\"1\" class=\"dataframe\">\n",
              "  <thead>\n",
              "    <tr style=\"text-align: right;\">\n",
              "      <th></th>\n",
              "      <th>image_name</th>\n",
              "      <th>fraudulent_claim</th>\n",
              "      <th>processed_image</th>\n",
              "    </tr>\n",
              "  </thead>\n",
              "  <tbody>\n",
              "    <tr>\n",
              "      <th>0</th>\n",
              "      <td>1.jpg</td>\n",
              "      <td>0</td>\n",
              "      <td>[[[0.6588235294117647, 0.7803921568627451, 0.8...</td>\n",
              "    </tr>\n",
              "    <tr>\n",
              "      <th>1</th>\n",
              "      <td>2.jpg</td>\n",
              "      <td>0</td>\n",
              "      <td>[[[0.9764705882352941, 0.9725490196078431, 0.9...</td>\n",
              "    </tr>\n",
              "    <tr>\n",
              "      <th>2</th>\n",
              "      <td>3.jpg</td>\n",
              "      <td>0</td>\n",
              "      <td>[[[0.3333333333333333, 0.5450980392156862, 0.0...</td>\n",
              "    </tr>\n",
              "    <tr>\n",
              "      <th>3</th>\n",
              "      <td>4.jpg</td>\n",
              "      <td>0</td>\n",
              "      <td>[[[0.10196078431372549, 0.058823529411764705, ...</td>\n",
              "    </tr>\n",
              "    <tr>\n",
              "      <th>4</th>\n",
              "      <td>5.jpg</td>\n",
              "      <td>0</td>\n",
              "      <td>[[[0.0392156862745098, 0.043137254901960784, 0...</td>\n",
              "    </tr>\n",
              "  </tbody>\n",
              "</table>\n",
              "</div>"
            ],
            "text/plain": [
              "  image_name  fraudulent_claim  \\\n",
              "0      1.jpg                 0   \n",
              "1      2.jpg                 0   \n",
              "2      3.jpg                 0   \n",
              "3      4.jpg                 0   \n",
              "4      5.jpg                 0   \n",
              "\n",
              "                                     processed_image  \n",
              "0  [[[0.6588235294117647, 0.7803921568627451, 0.8...  \n",
              "1  [[[0.9764705882352941, 0.9725490196078431, 0.9...  \n",
              "2  [[[0.3333333333333333, 0.5450980392156862, 0.0...  \n",
              "3  [[[0.10196078431372549, 0.058823529411764705, ...  \n",
              "4  [[[0.0392156862745098, 0.043137254901960784, 0...  "
            ]
          },
          "execution_count": 30,
          "metadata": {},
          "output_type": "execute_result"
        }
      ],
      "source": [
        "combined_df_train.head()"
      ]
    },
    {
      "cell_type": "code",
      "execution_count": 31,
      "metadata": {},
      "outputs": [
        {
          "data": {
            "text/plain": [
              "(930, 3)"
            ]
          },
          "execution_count": 31,
          "metadata": {},
          "output_type": "execute_result"
        }
      ],
      "source": [
        "combined_df_train.shape"
      ]
    },
    {
      "cell_type": "code",
      "execution_count": null,
      "metadata": {},
      "outputs": [],
      "source": []
    },
    {
      "cell_type": "code",
      "execution_count": null,
      "metadata": {},
      "outputs": [],
      "source": []
    },
    {
      "cell_type": "code",
      "execution_count": null,
      "metadata": {},
      "outputs": [],
      "source": []
    },
    {
      "cell_type": "code",
      "execution_count": null,
      "metadata": {},
      "outputs": [],
      "source": []
    },
    {
      "cell_type": "code",
      "execution_count": null,
      "metadata": {},
      "outputs": [],
      "source": []
    },
    {
      "cell_type": "code",
      "execution_count": null,
      "metadata": {
        "id": "oFZcaY7uV-9r"
      },
      "outputs": [],
      "source": []
    }
  ],
  "metadata": {
    "accelerator": "GPU",
    "colab": {
      "provenance": []
    },
    "kernelspec": {
      "display_name": "Python 3",
      "name": "python3"
    },
    "language_info": {
      "codemirror_mode": {
        "name": "ipython",
        "version": 3
      },
      "file_extension": ".py",
      "mimetype": "text/x-python",
      "name": "python",
      "nbconvert_exporter": "python",
      "pygments_lexer": "ipython3",
      "version": "3.9.18"
    }
  },
  "nbformat": 4,
  "nbformat_minor": 0
}

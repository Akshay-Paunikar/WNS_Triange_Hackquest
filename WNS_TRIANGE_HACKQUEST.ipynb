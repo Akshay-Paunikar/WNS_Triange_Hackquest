{
 "cells": [
  {
   "cell_type": "markdown",
   "metadata": {},
   "source": [
    "## WNS TRIANGE HACKQUEST\n",
    "\n",
    "### Problem Statement\n",
    "\n",
    "Within the realm of insurance, the processing of claims related to vehicle damage stands out as a routine yet crucial responsibility. The insurance sector grapples with an ongoing dilemma in distinguishing genuine claims from deceptive ones, a situation that can result in substantial financial setbacks. The emergence of Generative AI and various stable diffusion models has contributed to a surge in the number of fraudulent claims. It has become commonplace for users to incorporate fraudulent images as components of the claim settlement process.\n",
    "\n",
    "This poses a formidable challenge to insurance companies as they strive to differentiate between legitimate and deceitful claims. Deceptive claims often involve amplifying the severity of damage or fabricating entirely false claims. To curb these financial losses and uphold the integrity of their operations, insurance firms must formulate effective approaches for accurately and efficiently flagging fraudulent claims.\n",
    "\n",
    "In the context of this hackathon, the WNS team invites the community to devise a robust and high-performance model utilizing computer vision techniques to classify images as either fraudulent or non-fraudulent within the context of insurance claims. By precisely identifying fraudulent images, insurance companies can evaluate the authenticity of a claim and make well-informed decisions regarding payout.\n",
    "\n",
    "### Dataset\n",
    "\n",
    "You are provided with 3 files: training set, test set and sample submission.\n",
    "\n",
    "The training set contains a diverse dataset of car images, each labeled with information being fraudulent or non fraudulent. The dataset includes images from varying lighting conditions, cluttered backgrounds, long tail distribution, and so on.\n",
    "\n",
    "In the test set, you are provided with only the images and you need to predict the label as fraudulent or non fraudulent for each image present.\n",
    "\n",
    "The sample submission file contains the format in which the user needs to submit the solution file.\n",
    "\n",
    "### Dataset Description\n",
    "\n",
    "Following is the dataset description of training set, test set and sample submission.\n",
    "\n",
    "#### Training set\n",
    "\n",
    "The training set contains 2 files: images folder and train.csv\n",
    "\n",
    "The images folder contains the images which are to be used for training the model and train.csv contains the labels of each image present in the training set and data description is given below.\n",
    "\n",
    "![image](https://github.com/Akshay-Paunikar/WNS_Triange_Hackquest/assets/86560684/b2d4a1b8-f13c-4bb7-b75a-7272c0e620c8)\n",
    "\n",
    "#### Test set\n",
    "\n",
    "The test set contains 2 files: images folder and test.csv\n",
    "\n",
    "The images folder contains the test images for which prediction is to be done and test.csv contains the unique identifiers of each image present in the test set. You will need to make predictions for each image present in the test set and data description is given below.\n",
    "\n",
    "![image](https://github.com/Akshay-Paunikar/WNS_Triange_Hackquest/assets/86560684/810e41cc-f63e-489f-a8f7-1a3a24ac52a6)\n",
    "\n",
    "#### Sample Submission \n",
    "\n",
    "Sample submission contains 2 columns - image_id and label and its description is given below\n",
    "\n",
    "![image](https://github.com/Akshay-Paunikar/WNS_Triange_Hackquest/assets/86560684/3209b2b2-276f-4d5d-8147-cf834da748e9)\n",
    "\n",
    "#### Evaluation metric\n",
    "\n",
    "The model will be evaluated with the macro F1 score.\n",
    "\n",
    "#### Public and Private Split\n",
    "\n",
    "Test data is further divided into Public (40%) and Private (60%) data.\n",
    "\n",
    "Your initial responses will be checked and scored on the Public data. The final rankings would be based on your private score which will be published once the competition is over."
   ]
  },
  {
   "cell_type": "code",
   "execution_count": null,
   "metadata": {},
   "outputs": [],
   "source": []
  }
 ],
 "metadata": {
  "kernelspec": {
   "display_name": "Deep_Learning",
   "language": "python",
   "name": "python3"
  },
  "language_info": {
   "name": "python",
   "version": "3.9.18"
  }
 },
 "nbformat": 4,
 "nbformat_minor": 2
}

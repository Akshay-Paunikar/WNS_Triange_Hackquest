{
 "cells": [
  {
   "cell_type": "markdown",
   "metadata": {},
   "source": [
    "## WNS TRIANGE HACKQUEST\n",
    "\n",
    "### Problem Statement\n",
    "\n",
    "Within the realm of insurance, the processing of claims related to vehicle damage stands out as a routine yet crucial responsibility. The insurance sector grapples with an ongoing dilemma in distinguishing genuine claims from deceptive ones, a situation that can result in substantial financial setbacks. The emergence of Generative AI and various stable diffusion models has contributed to a surge in the number of fraudulent claims. It has become commonplace for users to incorporate fraudulent images as components of the claim settlement process.\n",
    "\n",
    "This poses a formidable challenge to insurance companies as they strive to differentiate between legitimate and deceitful claims. Deceptive claims often involve amplifying the severity of damage or fabricating entirely false claims. To curb these financial losses and uphold the integrity of their operations, insurance firms must formulate effective approaches for accurately and efficiently flagging fraudulent claims.\n",
    "\n",
    "In the context of this hackathon, the WNS team invites the community to devise a robust and high-performance model utilizing computer vision techniques to classify images as either fraudulent or non-fraudulent within the context of insurance claims. By precisely identifying fraudulent images, insurance companies can evaluate the authenticity of a claim and make well-informed decisions regarding payout.\n",
    "\n",
    "### Dataset\n",
    "\n",
    "You are provided with 3 files: training set, test set and sample submission.\n",
    "\n",
    "The training set contains a diverse dataset of car images, each labeled with information being fraudulent or non fraudulent. The dataset includes images from varying lighting conditions, cluttered backgrounds, long tail distribution, and so on.\n",
    "\n",
    "In the test set, you are provided with only the images and you need to predict the label as fraudulent or non fraudulent for each image present.\n",
    "\n",
    "The sample submission file contains the format in which the user needs to submit the solution file.\n",
    "\n",
    "### Dataset Description\n",
    "\n",
    "Following is the dataset description of training set, test set and sample submission.\n",
    "\n",
    "#### Training set\n",
    "\n",
    "The training set contains 2 files: images folder and train.csv\n",
    "\n",
    "The images folder contains the images which are to be used for training the model and train.csv contains the labels of each image present in the training set and data description is given below.\n",
    "\n",
    "![image](https://github.com/Akshay-Paunikar/WNS_Triange_Hackquest/assets/86560684/b2d4a1b8-f13c-4bb7-b75a-7272c0e620c8)\n",
    "\n",
    "#### Test set\n",
    "\n",
    "The test set contains 2 files: images folder and test.csv\n",
    "\n",
    "The images folder contains the test images for which prediction is to be done and test.csv contains the unique identifiers of each image present in the test set. You will need to make predictions for each image present in the test set and data description is given below.\n",
    "\n",
    "![image](https://github.com/Akshay-Paunikar/WNS_Triange_Hackquest/assets/86560684/810e41cc-f63e-489f-a8f7-1a3a24ac52a6)\n",
    "\n",
    "#### Sample Submission \n",
    "\n",
    "Sample submission contains 2 columns - image_id and label and its description is given below\n",
    "\n",
    "![image](https://github.com/Akshay-Paunikar/WNS_Triange_Hackquest/assets/86560684/3209b2b2-276f-4d5d-8147-cf834da748e9)\n",
    "\n",
    "#### Evaluation metric\n",
    "\n",
    "The model will be evaluated with the macro F1 score.\n",
    "\n",
    "#### Public and Private Split\n",
    "\n",
    "Test data is further divided into Public (40%) and Private (60%) data.\n",
    "\n",
    "Your initial responses will be checked and scored on the Public data. The final rankings would be based on your private score which will be published once the competition is over."
   ]
  },
  {
   "cell_type": "code",
   "execution_count": 2,
   "metadata": {},
   "outputs": [],
   "source": [
    "# import required libraries\n",
    "import numpy as np\n",
    "import pandas as pd\n",
    "from PIL import Image"
   ]
  },
  {
   "cell_type": "code",
   "execution_count": 4,
   "metadata": {},
   "outputs": [],
   "source": [
    "train_data = pd.read_csv(\"E:/Job-A-Thon/WNS_Triange_Hackquest/dataset/train/train.csv\")"
   ]
  },
  {
   "cell_type": "code",
   "execution_count": 6,
   "metadata": {},
   "outputs": [
    {
     "data": {
      "text/html": [
       "<div>\n",
       "<style scoped>\n",
       "    .dataframe tbody tr th:only-of-type {\n",
       "        vertical-align: middle;\n",
       "    }\n",
       "\n",
       "    .dataframe tbody tr th {\n",
       "        vertical-align: top;\n",
       "    }\n",
       "\n",
       "    .dataframe thead th {\n",
       "        text-align: right;\n",
       "    }\n",
       "</style>\n",
       "<table border=\"1\" class=\"dataframe\">\n",
       "  <thead>\n",
       "    <tr style=\"text-align: right;\">\n",
       "      <th></th>\n",
       "      <th>image_id</th>\n",
       "      <th>filename</th>\n",
       "      <th>label</th>\n",
       "    </tr>\n",
       "  </thead>\n",
       "  <tbody>\n",
       "    <tr>\n",
       "      <th>0</th>\n",
       "      <td>1</td>\n",
       "      <td>1.jpg</td>\n",
       "      <td>0</td>\n",
       "    </tr>\n",
       "    <tr>\n",
       "      <th>1</th>\n",
       "      <td>2</td>\n",
       "      <td>2.jpg</td>\n",
       "      <td>0</td>\n",
       "    </tr>\n",
       "    <tr>\n",
       "      <th>2</th>\n",
       "      <td>3</td>\n",
       "      <td>3.jpg</td>\n",
       "      <td>0</td>\n",
       "    </tr>\n",
       "    <tr>\n",
       "      <th>3</th>\n",
       "      <td>4</td>\n",
       "      <td>4.jpg</td>\n",
       "      <td>0</td>\n",
       "    </tr>\n",
       "    <tr>\n",
       "      <th>4</th>\n",
       "      <td>5</td>\n",
       "      <td>5.jpg</td>\n",
       "      <td>0</td>\n",
       "    </tr>\n",
       "  </tbody>\n",
       "</table>\n",
       "</div>"
      ],
      "text/plain": [
       "   image_id filename  label\n",
       "0         1    1.jpg      0\n",
       "1         2    2.jpg      0\n",
       "2         3    3.jpg      0\n",
       "3         4    4.jpg      0\n",
       "4         5    5.jpg      0"
      ]
     },
     "execution_count": 6,
     "metadata": {},
     "output_type": "execute_result"
    }
   ],
   "source": [
    "train_data.head()"
   ]
  },
  {
   "cell_type": "code",
   "execution_count": 5,
   "metadata": {},
   "outputs": [],
   "source": [
    "combined_data = []"
   ]
  },
  {
   "cell_type": "code",
   "execution_count": 8,
   "metadata": {},
   "outputs": [],
   "source": [
    "for index, row in train_data.iterrows():\n",
    "    image_path = \"E:/Job-A-Thon/WNS_Triange_Hackquest/dataset/train/images/\" + row['filename']\n",
    "    image = Image.open(image_path)\n",
    "    \n",
    "    combined_row = {\n",
    "        \"image_name\": row['filename'],\n",
    "        \"fraudulent_claim\": row['label'],\n",
    "        \"image_data\": image\n",
    "    }\n",
    "    \n",
    "    combined_data.append(combined_row)"
   ]
  },
  {
   "cell_type": "code",
   "execution_count": 9,
   "metadata": {},
   "outputs": [],
   "source": [
    "combined_df = pd.DataFrame(combined_data)"
   ]
  },
  {
   "cell_type": "code",
   "execution_count": 10,
   "metadata": {},
   "outputs": [
    {
     "data": {
      "text/html": [
       "<div>\n",
       "<style scoped>\n",
       "    .dataframe tbody tr th:only-of-type {\n",
       "        vertical-align: middle;\n",
       "    }\n",
       "\n",
       "    .dataframe tbody tr th {\n",
       "        vertical-align: top;\n",
       "    }\n",
       "\n",
       "    .dataframe thead th {\n",
       "        text-align: right;\n",
       "    }\n",
       "</style>\n",
       "<table border=\"1\" class=\"dataframe\">\n",
       "  <thead>\n",
       "    <tr style=\"text-align: right;\">\n",
       "      <th></th>\n",
       "      <th>image_name</th>\n",
       "      <th>fraudulent_claim</th>\n",
       "      <th>image_data</th>\n",
       "    </tr>\n",
       "  </thead>\n",
       "  <tbody>\n",
       "    <tr>\n",
       "      <th>0</th>\n",
       "      <td>1.jpg</td>\n",
       "      <td>0</td>\n",
       "      <td>&lt;PIL.JpegImagePlugin.JpegImageFile image mode=...</td>\n",
       "    </tr>\n",
       "    <tr>\n",
       "      <th>1</th>\n",
       "      <td>2.jpg</td>\n",
       "      <td>0</td>\n",
       "      <td>&lt;PIL.JpegImagePlugin.JpegImageFile image mode=...</td>\n",
       "    </tr>\n",
       "    <tr>\n",
       "      <th>2</th>\n",
       "      <td>3.jpg</td>\n",
       "      <td>0</td>\n",
       "      <td>&lt;PIL.JpegImagePlugin.JpegImageFile image mode=...</td>\n",
       "    </tr>\n",
       "    <tr>\n",
       "      <th>3</th>\n",
       "      <td>4.jpg</td>\n",
       "      <td>0</td>\n",
       "      <td>&lt;PIL.JpegImagePlugin.JpegImageFile image mode=...</td>\n",
       "    </tr>\n",
       "    <tr>\n",
       "      <th>4</th>\n",
       "      <td>5.jpg</td>\n",
       "      <td>0</td>\n",
       "      <td>&lt;PIL.JpegImagePlugin.JpegImageFile image mode=...</td>\n",
       "    </tr>\n",
       "  </tbody>\n",
       "</table>\n",
       "</div>"
      ],
      "text/plain": [
       "  image_name  fraudulent_claim  \\\n",
       "0      1.jpg                 0   \n",
       "1      2.jpg                 0   \n",
       "2      3.jpg                 0   \n",
       "3      4.jpg                 0   \n",
       "4      5.jpg                 0   \n",
       "\n",
       "                                          image_data  \n",
       "0  <PIL.JpegImagePlugin.JpegImageFile image mode=...  \n",
       "1  <PIL.JpegImagePlugin.JpegImageFile image mode=...  \n",
       "2  <PIL.JpegImagePlugin.JpegImageFile image mode=...  \n",
       "3  <PIL.JpegImagePlugin.JpegImageFile image mode=...  \n",
       "4  <PIL.JpegImagePlugin.JpegImageFile image mode=...  "
      ]
     },
     "execution_count": 10,
     "metadata": {},
     "output_type": "execute_result"
    }
   ],
   "source": [
    "combined_df.head()"
   ]
  },
  {
   "cell_type": "code",
   "execution_count": 13,
   "metadata": {},
   "outputs": [
    {
     "data": {
      "text/plain": [
       "image_name          object\n",
       "fraudulent_claim     int64\n",
       "image_data          object\n",
       "dtype: object"
      ]
     },
     "execution_count": 13,
     "metadata": {},
     "output_type": "execute_result"
    }
   ],
   "source": [
    "combined_df.dtypes"
   ]
  },
  {
   "cell_type": "code",
   "execution_count": 14,
   "metadata": {},
   "outputs": [],
   "source": [
    "target_size = (224, 224)"
   ]
  },
  {
   "cell_type": "code",
   "execution_count": 15,
   "metadata": {},
   "outputs": [],
   "source": [
    "def preprocess_image(image):\n",
    "    resized_image = image.resize(target_size)\n",
    "    processed_image = np.array(resized_image)/255.0\n",
    "    return processed_image"
   ]
  },
  {
   "cell_type": "code",
   "execution_count": 16,
   "metadata": {},
   "outputs": [
    {
     "ename": "",
     "evalue": "",
     "output_type": "error",
     "traceback": [
      "\u001b[1;31mFailed to interrupt the Kernel. \n",
      "\u001b[1;31mUnable to start Kernel 'Deep_Learning (Python 3.9.18)' due to a connection timeout. \n",
      "\u001b[1;31mView Jupyter <a href='command:jupyter.viewOutput'>log</a> for further details."
     ]
    }
   ],
   "source": [
    "combined_df['processed_image'] = combined_df['image_data'].apply(preprocess_image)"
   ]
  },
  {
   "cell_type": "code",
   "execution_count": null,
   "metadata": {},
   "outputs": [],
   "source": [
    "combined_df.drop(columns=['image_data'], inplace=True)"
   ]
  }
 ],
 "metadata": {
  "kernelspec": {
   "display_name": "Deep_Learning",
   "language": "python",
   "name": "python3"
  },
  "language_info": {
   "codemirror_mode": {
    "name": "ipython",
    "version": 3
   },
   "file_extension": ".py",
   "mimetype": "text/x-python",
   "name": "python",
   "nbconvert_exporter": "python",
   "pygments_lexer": "ipython3",
   "version": "3.9.18"
  }
 },
 "nbformat": 4,
 "nbformat_minor": 2
}
